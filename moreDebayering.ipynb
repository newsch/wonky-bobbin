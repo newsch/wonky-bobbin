{
 "cells": [
  {
   "cell_type": "code",
   "execution_count": 1,
   "metadata": {},
   "outputs": [],
   "source": [
    "import numpy as np\n",
    "import matplotlib.pyplot as plt\n",
    "from PIL import Image\n",
    "import scipy\n",
    "from scipy.signal import convolve\n",
    "from scipy import ndimage\n",
    "import getBayer\n",
    "% matplotlib inline\n",
    "import io\n",
    "import time\n",
    "import copy\n",
    "from numpy.lib.stride_tricks import as_strided"
   ]
  },
  {
   "cell_type": "code",
   "execution_count": 3,
   "metadata": {},
   "outputs": [],
   "source": [
    "Im = getBayer.getBayer('pic2.jpeg')\n",
    "bayer = getBayer.bayerGrid \n",
    "testIm = copy.deepcopy(Im)\n",
    "\n",
    "# plt.imshow(Im/255)"
   ]
  },
  {
   "cell_type": "code",
   "execution_count": 7,
   "metadata": {},
   "outputs": [
    {
     "data": {
      "text/plain": [
       "array([[ 0. ,  0. , -1. ,  0. ,  0. ],\n",
       "       [ 0. , -1. ,  4. , -1. ,  0. ],\n",
       "       [ 0.5,  0. ,  5. ,  0. ,  0.5],\n",
       "       [ 0. , -1. ,  4. , -1. ,  0. ],\n",
       "       [ 0. ,  0. , -1. ,  0. ,  0. ]])"
      ]
     },
     "execution_count": 7,
     "metadata": {},
     "output_type": "execute_result"
    }
   ],
   "source": [
    "GatR_B = np.array([[0,0,-1,0,0], [0,0,2,0,0],[-1,2,4,2,-1],[0,0,2,0,0],[0,0,-1,0,0]]) #Green at blue and red pixels\n",
    "RBatG_row = np.array([[0,0,.5,0,0], [0,-1,0,-1,0],[-1,4,5,4,-1],[0,-1,0,-1,0],[0,0,.5,0,0]]) #Red at Green, in Red row, Blue column\n",
    "RBatG_col = RBatG_row.T #Red at Green in Blue row, red coloumn. \n",
    "RBatBR = np.array([[0,0,-1.5,0,0], [0,2,0,2,0],[-1.5,0,6,0,-1.5],[0,2,0,2,0],[0,0,-1.5,0,0]])\n",
    "\n",
    "RBatG_col"
   ]
  },
  {
   "cell_type": "code",
   "execution_count": null,
   "metadata": {},
   "outputs": [],
   "source": []
  }
 ],
 "metadata": {
  "kernelspec": {
   "display_name": "Python 3",
   "language": "python",
   "name": "python3"
  },
  "language_info": {
   "codemirror_mode": {
    "name": "ipython",
    "version": 3
   },
   "file_extension": ".py",
   "mimetype": "text/x-python",
   "name": "python",
   "nbconvert_exporter": "python",
   "pygments_lexer": "ipython3",
   "version": "3.6.7"
  }
 },
 "nbformat": 4,
 "nbformat_minor": 2
}
