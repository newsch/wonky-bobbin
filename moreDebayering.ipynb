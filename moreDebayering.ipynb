{
 "cells": [
  {
   "cell_type": "code",
   "execution_count": 1,
   "metadata": {},
   "outputs": [],
   "source": [
    "import numpy as np\n",
    "import matplotlib.pyplot as plt\n",
    "from PIL import Image\n",
    "import scipy\n",
    "from scipy.ndimage import convolve\n",
    "from scipy import ndimage\n",
    "import getBayer\n",
    "%matplotlib inline\n",
    "import io\n",
    "import time\n",
    "import copy\n",
    "from numpy.lib.stride_tricks import as_strided"
   ]
  },
  {
   "cell_type": "code",
   "execution_count": 2,
   "metadata": {},
   "outputs": [
    {
     "data": {
      "text/plain": [
       "array([[14,  7, 15,  9, 15],\n",
       "       [16, 15, 12, 13, 13],\n",
       "       [13,  8, 15,  7, 13],\n",
       "       [12, 14, 11, 13, 14],\n",
       "       [15,  8, 14,  6, 13]], dtype=uint8)"
      ]
     },
     "execution_count": 2,
     "metadata": {},
     "output_type": "execute_result"
    }
   ],
   "source": [
    "Im = getBayer.getBayer('pic2.jpeg')\n",
    "bayer = getBayer.bayerGrid \n",
    "rawIm = copy.deepcopy(Im)\n",
    "R = rawIm[:,:,0].copy()\n",
    "G = rawIm[:,:,1].copy()\n",
    "B = rawIm[:,:,2].copy()\n",
    "\n",
    "rgbSum = R+G+B\n",
    "rgbSum[0:5,0:5]"
   ]
  },
  {
   "cell_type": "code",
   "metadata": {},
   "outputs": [],
   "source": [
    "# kernels for processing\n",
    "GatR = np.array([[0,0,-1,0,0],\n",
    "                 [0,0,2,0,0],\n",
    "                 [-1,2,4,2,-1],\n",
    "                 [0,0,2,0,0],\n",
    "                 [0,0,-1,0,0]])  # Green at red pixels\n",
    "GatB = GatR\n",
    "RatGRB = np.array([[0,0,.5,0,0],\n",
    "                   [0,-1,0,-1,0],\n",
    "                   [-1,4,5,4,-1],\n",
    "                   [0,-1,0,-1,0],\n",
    "                   [0,0,.5,0,0]])  # Red at Green, in Red row, Blue column\n",
    "RatGBR = RatGRB.T\n",
    "BatGBR = RatGRB\n",
    "BatGRB = RatGBR\n",
    "RatB = np.array([[0,0,-1.5,0,0],\n",
    "                 [0,2,0,2,0],\n",
    "                 [-1.5,0,6,0,-1.5],\n",
    "                 [0,2,0,2,0],\n",
    "                 [0,0,-1.5,0,0]])\n",
    "BatR = RatB\n",
    "\n",
    "Grows1 = slice(None,2)\n",
    "Gcols1 = Grows1\n",
    "Grows2 = slice(1,2)\n",
    "Gcols2 = Grows2\n",
    "\n",
    "Rrows = slice(1,2)\n",
    "Rcols = slice(None,2)\n",
    "\n",
    "Brows = slice(None,2)\n",
    "Bcols = slice(1,2)\n",
    "\n",
    "iGatR = (Rcols,Rrows)\n",
    "iGatB = (Bcols,Brows)\n",
    "iRatGRB = (Gcols1,Grows1)\n",
    "iBatGRB = iRatGRB\n",
    "iRatGBR = (Gcols2,Grows2)\n",
    "iBatGBR = iRatGBR\n",
    "iRatB = (Bcols,Brows)\n",
    "iBatR = (Rcols,Rrows)\n",
    "\n",
    "def debayer_malvar(img):\n",
    "    b = img.copy().sum(axis=2)  # flatten bayer data\n",
    "    debayered = img.copy()\n",
    "    \n",
    "    dGatR = convolve(b, GatR)\n",
    "    debayered[Rcols,Rrows,1] = dGatR[Rcols,Rrows]\n",
    "    debayered[Bcols,Brows,1] = dGatR[Bcols,Brows]\n",
    "    \n",
    "    dRatB = convolve(b, RatB)\n",
    "    debayered[Bcols,Brows,0] = dRatB[Bcols,Brows]\n",
    "    debayered[Rcols,Rrows,2] = dRatB[Rcols,Rrows]\n",
    "    \n",
    "    dRatGRB = convolve(b, RatGRB)\n",
    "    debayered[Gcols1,Grows1,0] = dRatGRB[Gcols1,Grows1]\n",
    "    debayered[Gcols2,Grows2,2] = dRatGRB[Gcols2,Grows2]\n",
    "    \n",
    "    dRatGBR = convolve(b, RatGBR)\n",
    "    debayered[Gcols2,Grows2,0] = dRatGBR[Gcols2,Grows2]\n",
    "    debayered[Gcols1,Grows1,2] = dRatGBR[Gcols1,Grows1]\n",
    "    return debayered"
   ]
  },
  {
   "cell_type": "code",
   "execution_count": 4,
   "metadata": {},
   "outputs": [
    {
     "data": {
      "text/plain": [
       "<matplotlib.image.AxesImage at 0x111f43956a0>"
      ]
     },
     "execution_count": 4,
     "metadata": {},
     "output_type": "execute_result"
    },
    {
     "data": {
      "image/png": "[encoded data removed]",
      "text/plain": [
       "<matplotlib.figure.Figure at 0x111f161a940>"
      ]
     },
     "metadata": {},
     "output_type": "display_data"
    }
   ],
   "source": [
    "small_bayer = getBayer.get_bayer_grid(8,8)\n",
    "plt.imshow(small_bayer.astype(np.float))"
   ]
  },
  {
   "cell_type": "code",
   "execution_count": 5,
   "metadata": {},
   "outputs": [
    {
     "data": {
      "text/plain": [
       "<matplotlib.image.AxesImage at 0x111f4497b70>"
      ]
     },
     "execution_count": 5,
     "metadata": {},
     "output_type": "execute_result"
    },
    {
     "data": {
      "image/png": "[encoded data removed]",
      "text/plain": [
       "<matplotlib.figure.Figure at 0x111f161a6a0>"
      ]
     },
     "metadata": {},
     "output_type": "display_data"
    }
   ],
   "source": [
    "edge_example = np.ones((8,8,3), dtype=np.float)\n",
    "edge_example[:,:4] = 1/3\n",
    "plt.imshow(edge_example)"
   ]
  },
  {
   "cell_type": "code",
   "execution_count": 6,
   "metadata": {},
   "outputs": [
    {
     "data": {
      "text/plain": [
       "<matplotlib.image.AxesImage at 0x111f45415f8>"
      ]
     },
     "execution_count": 6,
     "metadata": {},
     "output_type": "execute_result"
    },
    {
     "data": {
      "image/png": "[encoded data removed]",
      "text/plain": [
       "<matplotlib.figure.Figure at 0x111f41ef358>"
      ]
     },
     "metadata": {},
     "output_type": "display_data"
    }
   ],
   "source": [
    "edge_bayerized = edge_example * small_bayer\n",
    "plt.imshow(edge_bayerized)"
   ]
  },
  {
   "cell_type": "code",
   "execution_count": 7,
   "metadata": {},
   "outputs": [
    {
     "data": {
      "text/plain": [
       "array([[[ 0.        ,  0.33333333,  0.        ],\n",
       "        [ 0.        ,  0.        ,  0.33333333],\n",
       "        [ 0.        ,  0.33333333,  0.        ],\n",
       "        [ 0.        ,  0.        ,  0.33333333],\n",
       "        [ 0.        ,  1.        ,  0.        ],\n",
       "        [ 0.        ,  0.        ,  1.        ],\n",
       "        [ 0.        ,  1.        ,  0.        ],\n",
       "        [ 0.        ,  0.        ,  1.        ]],\n",
       "\n",
       "       [[ 0.33333333,  0.        ,  0.        ],\n",
       "        [ 0.        ,  0.33333333,  0.        ],\n",
       "        [ 0.33333333,  0.        ,  0.        ],\n",
       "        [ 0.        ,  0.33333333,  0.        ],\n",
       "        [ 1.        ,  0.        ,  0.        ],\n",
       "        [ 0.        ,  1.        ,  0.        ],\n",
       "        [ 1.        ,  0.        ,  0.        ],\n",
       "        [ 0.        ,  1.        ,  0.        ]],\n",
       "\n",
       "       [[ 0.        ,  0.33333333,  0.        ],\n",
       "        [ 0.        ,  0.        ,  0.33333333],\n",
       "        [ 0.        ,  0.33333333,  0.        ],\n",
       "        [ 0.        ,  0.        ,  0.33333333],\n",
       "        [ 0.        ,  1.        ,  0.        ],\n",
       "        [ 0.        ,  0.        ,  1.        ],\n",
       "        [ 0.        ,  1.        ,  0.        ],\n",
       "        [ 0.        ,  0.        ,  1.        ]],\n",
       "\n",
       "       [[ 0.33333333,  0.        ,  0.        ],\n",
       "        [ 0.        ,  0.33333333,  0.        ],\n",
       "        [ 0.33333333,  0.        ,  0.        ],\n",
       "        [ 0.        ,  0.33333333,  0.        ],\n",
       "        [ 1.        ,  0.        ,  0.        ],\n",
       "        [ 0.        ,  1.        ,  0.        ],\n",
       "        [ 1.        ,  0.        ,  0.        ],\n",
       "        [ 0.        ,  1.        ,  0.        ]],\n",
       "\n",
       "       [[ 0.        ,  0.33333333,  0.        ],\n",
       "        [ 0.        ,  0.        ,  0.33333333],\n",
       "        [ 0.        ,  0.33333333,  0.        ],\n",
       "        [ 0.        ,  0.        ,  0.33333333],\n",
       "        [ 0.        ,  1.        ,  0.        ],\n",
       "        [ 0.        ,  0.        ,  1.        ],\n",
       "        [ 0.        ,  1.        ,  0.        ],\n",
       "        [ 0.        ,  0.        ,  1.        ]],\n",
       "\n",
       "       [[ 0.33333333,  0.        ,  0.        ],\n",
       "        [ 0.        ,  0.33333333,  0.        ],\n",
       "        [ 0.33333333,  0.        ,  0.        ],\n",
       "        [ 0.        ,  0.33333333,  0.        ],\n",
       "        [ 1.        ,  0.        ,  0.        ],\n",
       "        [ 0.        ,  1.        ,  0.        ],\n",
       "        [ 1.        ,  0.        ,  0.        ],\n",
       "        [ 0.        ,  1.        ,  0.        ]],\n",
       "\n",
       "       [[ 0.        ,  0.33333333,  0.        ],\n",
       "        [ 0.        ,  0.        ,  0.33333333],\n",
       "        [ 0.        ,  0.33333333,  0.        ],\n",
       "        [ 0.        ,  0.        ,  0.33333333],\n",
       "        [ 0.        ,  1.        ,  0.        ],\n",
       "        [ 0.        ,  0.        ,  1.        ],\n",
       "        [ 0.        ,  1.        ,  0.        ],\n",
       "        [ 0.        ,  0.        ,  1.        ]],\n",
       "\n",
       "       [[ 0.33333333,  0.        ,  0.        ],\n",
       "        [ 0.        ,  0.33333333,  0.        ],\n",
       "        [ 0.33333333,  0.        ,  0.        ],\n",
       "        [ 0.        ,  0.33333333,  0.        ],\n",
       "        [ 1.        ,  0.        ,  0.        ],\n",
       "        [ 0.        ,  1.        ,  0.        ],\n",
       "        [ 1.        ,  0.        ,  0.        ],\n",
       "        [ 0.        ,  1.        ,  0.        ]]])"
      ]
     },
     "execution_count": 7,
     "metadata": {},
     "output_type": "execute_result"
    }
   ],
   "source": [
    "edge_bayerized"
   ]
  },
  {
   "cell_type": "code",
   "execution_count": 8,
   "metadata": {},
   "outputs": [
    {
     "data": {
      "text/plain": [
       "<matplotlib.image.AxesImage at 0x111f45d3080>"
      ]
     },
     "execution_count": 8,
     "metadata": {},
     "output_type": "execute_result"
    },
    {
     "data": {
      "image/png": "[encoded data removed]",
      "text/plain": [
       "<matplotlib.figure.Figure at 0x111f4565cf8>"
      ]
     },
     "metadata": {},
     "output_type": "display_data"
    }
   ],
   "source": [
    "edge_debayerized = debayer_malvar(edge_bayerized)\n",
    "plt.imshow(edge_debayerized)"
   ]
  },
  {
   "cell_type": "code",
   "execution_count": null,
   "metadata": {},
   "outputs": [],
   "source": []
  },
  {
   "cell_type": "code",
   "execution_count": null,
   "metadata": {},
   "outputs": [],
   "source": []
  }
 ],
 "metadata": {
  "kernelspec": {
   "display_name": "Python 3",
   "language": "python",
   "name": "python3"
  },
  "language_info": {
   "codemirror_mode": {
    "name": "ipython",
    "version": 3
   },
   "file_extension": ".py",
   "mimetype": "text/x-python",
   "name": "python",
   "nbconvert_exporter": "python",
   "pygments_lexer": "ipython3",
   "version": "3.6.7"
  }
 },
 "nbformat": 4,
 "nbformat_minor": 2
}
