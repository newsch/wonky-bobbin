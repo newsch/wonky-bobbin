{
 "cells": [
  {
   "cell_type": "code",
   "execution_count": 1,
   "metadata": {},
   "outputs": [],
   "source": [
    "import numpy as np\n",
    "import matplotlib.pyplot as plt\n",
    "from PIL import Image\n",
    "import scipy\n",
    "from scipy.ndimage import convolve\n",
    "from scipy import ndimage\n",
    "%matplotlib inline\n",
    "import time\n",
    "import copy\n",
    "from numpy.lib.stride_tricks import as_strided"
   ]
  },
  {
   "cell_type": "code",
   "execution_count": 2,
   "metadata": {},
   "outputs": [],
   "source": [
    "%load_ext autoreload\n",
    "%autoreload 1\n",
    "%aimport getBayer"
   ]
  },
  {
   "cell_type": "code",
   "execution_count": 3,
   "metadata": {},
   "outputs": [
    {
     "data": {
      "text/plain": [
       "array([[14,  7, 15,  9, 15],\n",
       "       [16, 15, 12, 13, 13],\n",
       "       [13,  8, 15,  7, 13],\n",
       "       [12, 14, 11, 13, 14],\n",
       "       [15,  8, 14,  6, 13]], dtype=uint8)"
      ]
     },
     "execution_count": 3,
     "metadata": {},
     "output_type": "execute_result"
    }
   ],
   "source": [
    "Im = getBayer.getBayer('pic2.jpeg')\n",
    "bayer = getBayer.bayerGrid \n",
    "rawIm = copy.deepcopy(Im)\n",
    "R = rawIm[:,:,0].copy()\n",
    "G = rawIm[:,:,1].copy()\n",
    "B = rawIm[:,:,2].copy()\n",
    "\n",
    "rgbSum = R+G+B\n",
    "rgbSum[0:5,0:5]"
   ]
  },
  {
   "cell_type": "code",
   "execution_count": 4,
   "metadata": {},
   "outputs": [],
   "source": [
    "# kernels for processing\n",
    "GatR = np.array([[0,0,-1,0,0],\n",
    "                 [0,0,2,0,0],\n",
    "                 [-1,2,4,2,-1],\n",
    "                 [0,0,2,0,0],\n",
    "                 [0,0,-1,0,0]])  # Green at red pixels\n",
    "GatB = GatR\n",
    "RatGRB = np.array([[0,0,.5,0,0],\n",
    "                   [0,-1,0,-1,0],\n",
    "                   [-1,4,5,4,-1],\n",
    "                   [0,-1,0,-1,0],\n",
    "                   [0,0,.5,0,0]])  # Red at Green, in Red row, Blue column\n",
    "RatGBR = RatGRB.T\n",
    "BatGBR = RatGRB\n",
    "BatGRB = RatGBR\n",
    "RatB = np.array([[0,0,-1.5,0,0],\n",
    "                 [0,2,0,2,0],\n",
    "                 [-1.5,0,6,0,-1.5],\n",
    "                 [0,2,0,2,0],\n",
    "                 [0,0,-1.5,0,0]])\n",
    "BatR = RatB\n",
    "\n",
    "Grows1 = slice(None,None,2)\n",
    "Gcols1 = Grows1\n",
    "Grows2 = slice(1,None,2)\n",
    "Gcols2 = Grows2\n",
    "\n",
    "Rrows = slice(1,None,2)\n",
    "Rcols = slice(None,None,2)\n",
    "\n",
    "Brows = slice(None,None,2)\n",
    "Bcols = slice(1,None,2)\n",
    "\n",
    "iGatR = (Rcols,Rrows)\n",
    "iGatB = (Bcols,Brows)\n",
    "iRatGRB = (Gcols1,Grows1)\n",
    "iBatGRB = iRatGRB\n",
    "iRatGBR = (Gcols2,Grows2)\n",
    "iBatGBR = iRatGBR\n",
    "iRatB = (Bcols,Brows)\n",
    "iBatR = (Rcols,Rrows)\n",
    "\n",
    "def debayer_malvar(img):\n",
    "    def norm(k):\n",
    "        return k / np.sum(k)\n",
    "#         return k\n",
    "    \n",
    "    b = img.copy().sum(axis=2)  # flatten bayer data\n",
    "    debayered = img.copy()\n",
    "    \n",
    "    dGatR = convolve(b, norm(GatR))\n",
    "    debayered[Rrows,Rcols,1] = dGatR[Rrows,Rcols]\n",
    "    debayered[Brows,Bcols,1] = dGatR[Brows,Bcols]\n",
    "    \n",
    "    dRatB = convolve(b, norm(RatB))\n",
    "    debayered[Brows,Bcols,0] = dRatB[Brows,Bcols]\n",
    "    debayered[Rrows,Rcols,2] = dRatB[Rrows,Rcols]\n",
    "    \n",
    "    dRatGRB = convolve(b, norm(RatGRB))\n",
    "    debayered[Grows1,Gcols1,0] = dRatGRB[Grows1,Gcols1]\n",
    "    debayered[Grows2,Gcols2,2] = dRatGRB[Grows2,Gcols2]\n",
    "    \n",
    "    dRatGBR = convolve(b, norm(RatGBR))\n",
    "    debayered[Grows2,Gcols2,0] = dRatGBR[Grows2,Gcols2]\n",
    "    debayered[Grows1,Gcols1,2] = dRatGBR[Grows1,Gcols1]\n",
    "    return debayered"
   ]
  },
  {
   "cell_type": "code",
   "execution_count": 5,
   "metadata": {},
   "outputs": [
    {
     "data": {
      "text/plain": [
       "<matplotlib.image.AxesImage at 0x7fe37bb96e48>"
      ]
     },
     "execution_count": 5,
     "metadata": {},
     "output_type": "execute_result"
    },
    {
     "data": {
      "image/png": "[encoded data removed]",
      "text/plain": [
       "<Figure size 432x288 with 1 Axes>"
      ]
     },
     "metadata": {
      "needs_background": "light"
     },
     "output_type": "display_data"
    }
   ],
   "source": [
    "small_bayer = getBayer.get_bayer_grid(8,8)\n",
    "plt.imshow(small_bayer.astype(np.float))"
   ]
  },
  {
   "cell_type": "code",
   "execution_count": 6,
   "metadata": {},
   "outputs": [
    {
     "data": {
      "text/plain": [
       "<matplotlib.image.AxesImage at 0x7fe37982a7b8>"
      ]
     },
     "execution_count": 6,
     "metadata": {},
     "output_type": "execute_result"
    },
    {
     "data": {
      "image/png": "[encoded data removed]",
      "text/plain": [
       "<Figure size 432x288 with 1 Axes>"
      ]
     },
     "metadata": {
      "needs_background": "light"
     },
     "output_type": "display_data"
    }
   ],
   "source": [
    "edge_example = np.ones((8,8,3), dtype=np.float)\n",
    "edge_example[:,:4] = 1/3\n",
    "plt.imshow(edge_example)"
   ]
  },
  {
   "cell_type": "code",
   "execution_count": 7,
   "metadata": {},
   "outputs": [
    {
     "data": {
      "text/plain": [
       "<matplotlib.image.AxesImage at 0x7fe37978d9b0>"
      ]
     },
     "execution_count": 7,
     "metadata": {},
     "output_type": "execute_result"
    },
    {
     "data": {
      "image/png": "[encoded data removed]",
      "text/plain": [
       "<Figure size 432x288 with 1 Axes>"
      ]
     },
     "metadata": {
      "needs_background": "light"
     },
     "output_type": "display_data"
    }
   ],
   "source": [
    "edge_bayerized = edge_example * small_bayer\n",
    "plt.imshow(edge_bayerized)"
   ]
  },
  {
   "cell_type": "code",
   "execution_count": 8,
   "metadata": {},
   "outputs": [
    {
     "data": {
      "text/plain": [
       "<matplotlib.image.AxesImage at 0x7fe379763a90>"
      ]
     },
     "execution_count": 8,
     "metadata": {},
     "output_type": "execute_result"
    },
    {
     "data": {
      "image/png": "[encoded data removed]",
      "text/plain": [
       "<Figure size 432x288 with 1 Axes>"
      ]
     },
     "metadata": {
      "needs_background": "light"
     },
     "output_type": "display_data"
    }
   ],
   "source": [
    "edge_debayerized = debayer_malvar(edge_bayerized)\n",
    "plt.imshow(np.clip(edge_debayerized,0,1))"
   ]
  },
  {
   "cell_type": "code",
   "execution_count": 9,
   "metadata": {},
   "outputs": [
    {
     "data": {
      "text/plain": [
       "array([[[0.33333333, 0.33333333, 0.33333333],\n",
       "        [0.33333333, 0.33333333, 0.33333333],\n",
       "        [0.25      , 0.33333333, 0.375     ],\n",
       "        [0.54166667, 0.41666667, 0.33333333],\n",
       "        [0.91666667, 1.        , 1.125     ],\n",
       "        [1.125     , 1.08333333, 1.        ],\n",
       "        [1.        , 1.        , 1.        ],\n",
       "        [1.        , 1.        , 1.        ]],\n",
       "\n",
       "       [[0.33333333, 0.33333333, 0.33333333],\n",
       "        [0.33333333, 0.33333333, 0.33333333],\n",
       "        [0.33333333, 0.25      , 0.20833333],\n",
       "        [0.20833333, 0.33333333, 0.41666667],\n",
       "        [1.        , 0.91666667, 0.79166667],\n",
       "        [0.95833333, 1.        , 1.08333333],\n",
       "        [1.        , 1.        , 1.        ],\n",
       "        [1.        , 1.        , 1.        ]],\n",
       "\n",
       "       [[0.33333333, 0.33333333, 0.33333333],\n",
       "        [0.33333333, 0.33333333, 0.33333333],\n",
       "        [0.25      , 0.33333333, 0.375     ],\n",
       "        [0.54166667, 0.41666667, 0.33333333],\n",
       "        [0.91666667, 1.        , 1.125     ],\n",
       "        [1.125     , 1.08333333, 1.        ],\n",
       "        [1.        , 1.        , 1.        ],\n",
       "        [1.        , 1.        , 1.        ]],\n",
       "\n",
       "       [[0.33333333, 0.33333333, 0.33333333],\n",
       "        [0.33333333, 0.33333333, 0.33333333],\n",
       "        [0.33333333, 0.25      , 0.20833333],\n",
       "        [0.20833333, 0.33333333, 0.41666667],\n",
       "        [1.        , 0.91666667, 0.79166667],\n",
       "        [0.95833333, 1.        , 1.08333333],\n",
       "        [1.        , 1.        , 1.        ],\n",
       "        [1.        , 1.        , 1.        ]],\n",
       "\n",
       "       [[0.33333333, 0.33333333, 0.33333333],\n",
       "        [0.33333333, 0.33333333, 0.33333333],\n",
       "        [0.25      , 0.33333333, 0.375     ],\n",
       "        [0.54166667, 0.41666667, 0.33333333],\n",
       "        [0.91666667, 1.        , 1.125     ],\n",
       "        [1.125     , 1.08333333, 1.        ],\n",
       "        [1.        , 1.        , 1.        ],\n",
       "        [1.        , 1.        , 1.        ]],\n",
       "\n",
       "       [[0.33333333, 0.33333333, 0.33333333],\n",
       "        [0.33333333, 0.33333333, 0.33333333],\n",
       "        [0.33333333, 0.25      , 0.20833333],\n",
       "        [0.20833333, 0.33333333, 0.41666667],\n",
       "        [1.        , 0.91666667, 0.79166667],\n",
       "        [0.95833333, 1.        , 1.08333333],\n",
       "        [1.        , 1.        , 1.        ],\n",
       "        [1.        , 1.        , 1.        ]],\n",
       "\n",
       "       [[0.33333333, 0.33333333, 0.33333333],\n",
       "        [0.33333333, 0.33333333, 0.33333333],\n",
       "        [0.25      , 0.33333333, 0.375     ],\n",
       "        [0.54166667, 0.41666667, 0.33333333],\n",
       "        [0.91666667, 1.        , 1.125     ],\n",
       "        [1.125     , 1.08333333, 1.        ],\n",
       "        [1.        , 1.        , 1.        ],\n",
       "        [1.        , 1.        , 1.        ]],\n",
       "\n",
       "       [[0.33333333, 0.33333333, 0.33333333],\n",
       "        [0.33333333, 0.33333333, 0.33333333],\n",
       "        [0.33333333, 0.25      , 0.20833333],\n",
       "        [0.20833333, 0.33333333, 0.41666667],\n",
       "        [1.        , 0.91666667, 0.79166667],\n",
       "        [0.95833333, 1.        , 1.08333333],\n",
       "        [1.        , 1.        , 1.        ],\n",
       "        [1.        , 1.        , 1.        ]]])"
      ]
     },
     "execution_count": 9,
     "metadata": {},
     "output_type": "execute_result"
    }
   ],
   "source": [
    "edge_debayerized"
   ]
  },
  {
   "cell_type": "code",
   "execution_count": 10,
   "metadata": {},
   "outputs": [
    {
     "data": {
      "text/plain": [
       "0.33333333333333326"
      ]
     },
     "execution_count": 10,
     "metadata": {},
     "output_type": "execute_result"
    }
   ],
   "source": [
    "edge_debayerized[1,0,2]"
   ]
  },
  {
   "cell_type": "code",
   "execution_count": 11,
   "metadata": {},
   "outputs": [
    {
     "data": {
      "text/plain": [
       "True"
      ]
     },
     "execution_count": 11,
     "metadata": {},
     "output_type": "execute_result"
    }
   ],
   "source": [
    "small_bayer[0,1,2]"
   ]
  },
  {
   "cell_type": "code",
   "execution_count": 12,
   "metadata": {},
   "outputs": [
    {
     "data": {
      "text/plain": [
       "<matplotlib.image.AxesImage at 0x7fe3796c5278>"
      ]
     },
     "execution_count": 12,
     "metadata": {},
     "output_type": "execute_result"
    },
    {
     "data": {
      "image/png": "[encoded data removed]",
      "text/plain": [
       "<Figure size 432x288 with 1 Axes>"
      ]
     },
     "metadata": {
      "needs_background": "light"
     },
     "output_type": "display_data"
    }
   ],
   "source": [
    "plt.imshow(np.clip(getBayer.debayer_malvar(edge_bayerized),0,1))"
   ]
  }
 ],
 "metadata": {
  "kernelspec": {
   "display_name": "Python 3",
   "language": "python",
   "name": "python3"
  },
  "language_info": {
   "codemirror_mode": {
    "name": "ipython",
    "version": 3
   },
   "file_extension": ".py",
   "mimetype": "text/x-python",
   "name": "python",
   "nbconvert_exporter": "python",
   "pygments_lexer": "ipython3",
   "version": "3.6.7"
  }
 },
 "nbformat": 4,
 "nbformat_minor": 2
}
