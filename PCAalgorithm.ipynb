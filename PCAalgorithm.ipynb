{
 "cells": [
  {
   "cell_type": "code",
   "execution_count": 8,
   "metadata": {},
   "outputs": [],
   "source": [
    "import numpy as np\n",
    "import matplotlib.pyplot as plt\n",
    "from PIL import Image\n",
    "import scipy\n",
    "from scipy.signal import convolve\n",
    "from scipy import ndimage\n",
    "from getBayer import getBayer, bayerGrid\n",
    "% matplotlib inline\n",
    "import io\n",
    "import time\n",
    "import copy\n",
    "from numpy.lib.stride_tricks import as_strided"
   ]
  },
  {
   "cell_type": "code",
   "execution_count": 11,
   "metadata": {},
   "outputs": [
    {
     "data": {
      "text/plain": [
       "array([[36,  0, 30],\n",
       "       [ 0, 36,  0],\n",
       "       [32,  0, 29]], dtype=uint8)"
      ]
     },
     "execution_count": 11,
     "metadata": {},
     "output_type": "execute_result"
    }
   ],
   "source": [
    "rgbIm = getBayer('wall2.pickle')\n",
    "red = copy.deepcopy(rgbIm[:,:,0])\n",
    "green = copy.deepcopy(rgbIm[:,:,1])\n",
    "blue = copy.deepcopy(rgbIm[:,:,2])\n",
    "green[0:3, 0:3]"
   ]
  },
  {
   "cell_type": "code",
   "execution_count": 25,
   "metadata": {},
   "outputs": [
    {
     "data": {
      "text/plain": [
       "(1944, 2592)"
      ]
     },
     "execution_count": 25,
     "metadata": {},
     "output_type": "execute_result"
    }
   ],
   "source": [
    "green1 = np.zeros(red.shape)\n",
    "green2 = np.zeros(red.shape)\n",
    "green1[0::2,:] = green[0::2,:]\n",
    "green2[1::2,:] = green[1::2,:]\n",
    "green2.shape"
   ]
  },
  {
   "cell_type": "code",
   "execution_count": 27,
   "metadata": {},
   "outputs": [
    {
     "data": {
      "text/plain": [
       "(5038848, 1)"
      ]
     },
     "execution_count": 27,
     "metadata": {},
     "output_type": "execute_result"
    }
   ],
   "source": [
    "vectR = red.reshape(rgbIm.shape[0]*rgbIm.shape[1], 1)\n",
    "vectG1 = green1.reshape(rgbIm.shape[0]*rgbIm.shape[1], 1)\n",
    "vectG2 = green2.reshape(rgbIm.shape[0]*rgbIm.shape[1], 1)\n",
    "vectB = blue.reshape(rgbIm.shape[0]*rgbIm.shape[1], 1)\n",
    "\n",
    "vectG1.shape"
   ]
  },
  {
   "cell_type": "code",
   "execution_count": null,
   "metadata": {},
   "outputs": [],
   "source": []
  }
 ],
 "metadata": {
  "kernelspec": {
   "display_name": "Python 3",
   "language": "python",
   "name": "python3"
  },
  "language_info": {
   "codemirror_mode": {
    "name": "ipython",
    "version": 3
   },
   "file_extension": ".py",
   "mimetype": "text/x-python",
   "name": "python",
   "nbconvert_exporter": "python",
   "pygments_lexer": "ipython3",
   "version": "3.6.7"
  }
 },
 "nbformat": 4,
 "nbformat_minor": 2
}
