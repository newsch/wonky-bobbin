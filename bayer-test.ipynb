{
 "cells": [
  {
   "cell_type": "markdown",
   "metadata": {},
   "source": [
    "This notebook walks through the process of converting from images captured by the Raspberry Pi using the `--raw` command to useful numpy structures of the Bayer grid data.\n",
    "\n",
    "This uses most of the example code from [the `picamera` module's section on Raw Bayer Captures](https://picamera.readthedocs.io/en/release-1.13/recipes2.html#raw-bayer-data-captures)."
   ]
  },
  {
   "cell_type": "code",
   "execution_count": 2,
   "metadata": {},
   "outputs": [],
   "source": [
    "import numpy as np\n",
    "import matplotlib.pyplot as plt\n",
    "from PIL import Image"
   ]
  },
  {
   "cell_type": "code",
   "execution_count": 3,
   "metadata": {},
   "outputs": [],
   "source": [
    "import io\n",
    "import time\n",
    "from numpy.lib.stride_tricks import as_strided"
   ]
  },
  {
   "cell_type": "code",
   "execution_count": 4,
   "metadata": {},
   "outputs": [],
   "source": [
    "# load our pickled stream object containing the image data\n",
    "import pickle\n",
    "with open('wall2.pickle','rb') as f:\n",
    "    stream = pickle.load(f)\n",
    "# # alternatively, just open the jpeg file (also works)\n",
    "# with open('wall1.jpeg', 'rb') as f:\n",
    "#     stream = io.BytesIO(f.read())\n",
    "assert isinstance(stream, io.BytesIO)\n",
    "ver = 1  # we used a v1 camera module for this image. Use `2` for v2"
   ]
  },
  {
   "cell_type": "code",
   "execution_count": 5,
   "metadata": {},
   "outputs": [],
   "source": [
    "# Extract the raw Bayer data from the end of the stream, check the\n",
    "# header and strip if off before converting the data into a numpy array\n",
    "\n",
    "offset = {\n",
    "    1: 6404096,\n",
    "    2: 10270208,\n",
    "    }[ver]\n",
    "data = stream.getvalue()[-offset:]\n",
    "assert data[:4] == b'BRCM'\n",
    "data = data[32768:]\n",
    "data = np.frombuffer(data, dtype=np.uint8)"
   ]
  },
  {
   "cell_type": "code",
   "execution_count": 6,
   "metadata": {},
   "outputs": [],
   "source": [
    "# For the V1 module, the data consists of 1952 rows of 3264 bytes of data.\n",
    "# The last 8 rows of data are unused (they only exist because the maximum\n",
    "# resolution of 1944 rows is rounded up to the nearest 16).\n",
    "#\n",
    "# For the V2 module, the data consists of 2480 rows of 4128 bytes of data.\n",
    "# There's actually 2464 rows of data, but the sensor's raw size is 2466\n",
    "# rows, rounded up to the nearest multiple of 16: 2480.\n",
    "#\n",
    "# Likewise, the last few bytes of each row are unused (why?). Here we\n",
    "# reshape the data and strip off the unused bytes.\n",
    "\n",
    "reshape, crop = {\n",
    "    1: ((1952, 3264), (1944, 3240)),\n",
    "    2: ((2480, 4128), (2464, 4100)),\n",
    "    }[ver]\n",
    "data = data.reshape(reshape)[:crop[0], :crop[1]]"
   ]
  },
  {
   "cell_type": "code",
   "execution_count": 7,
   "metadata": {},
   "outputs": [],
   "source": [
    "# Horizontally, each row consists of 10-bit values. Every four bytes are\n",
    "# the high 8-bits of four values, and the 5th byte contains the packed low\n",
    "# 2-bits of the preceding four values. In other words, the bits of the\n",
    "# values A, B, C, D and arranged like so:\n",
    "#\n",
    "#  byte 1   byte 2   byte 3   byte 4   byte 5\n",
    "# AAAAAAAA BBBBBBBB CCCCCCCC DDDDDDDD AABBCCDD\n",
    "#\n",
    "# Here, we convert our data into a 16-bit array, shift all values left by\n",
    "# 2-bits and unpack the low-order bits from every 5th byte in each row,\n",
    "# then remove the columns containing the packed bits\n",
    "\n",
    "data = data.astype(np.uint16) << 2\n",
    "for byte in range(4):\n",
    "    data[:, byte::5] |= ((data[:, 4::5] >> ((4 - byte) * 2)) & 0b11)\n",
    "data = np.delete(data, np.s_[4::5], 1)"
   ]
  },
  {
   "cell_type": "code",
   "execution_count": 8,
   "metadata": {},
   "outputs": [],
   "source": [
    "# Now to split the data up into its red, green, and blue components. The\n",
    "# Bayer pattern of the OV5647 sensor is BGGR. In other words the first\n",
    "# row contains alternating green/blue elements, the second row contains\n",
    "# alternating red/green elements, and so on as illustrated below:\n",
    "#\n",
    "# GBGBGBGBGBGBGB\n",
    "# RGRGRGRGRGRGRG\n",
    "# GBGBGBGBGBGBGB\n",
    "# RGRGRGRGRGRGRG\n",
    "#\n",
    "# Please note that if you use vflip or hflip to change the orientation\n",
    "# of the capture, you must flip the Bayer pattern accordingly\n",
    "\n",
    "rgb = np.zeros(data.shape + (3,), dtype=data.dtype)\n",
    "rgb[1::2, 0::2, 0] = data[1::2, 0::2] # Red\n",
    "rgb[0::2, 0::2, 1] = data[0::2, 0::2] # Green\n",
    "rgb[1::2, 1::2, 1] = data[1::2, 1::2] # Green\n",
    "rgb[0::2, 1::2, 2] = data[0::2, 1::2] # Blue"
   ]
  },
  {
   "cell_type": "code",
   "execution_count": 9,
   "metadata": {},
   "outputs": [],
   "source": [
    "# At this point we now have the raw Bayer data with the correct values\n",
    "# and colors but the data still requires de-mosaicing and\n",
    "# post-processing. If you wish to do this yourself, end the script here!"
   ]
  },
  {
   "cell_type": "code",
   "execution_count": 10,
   "metadata": {},
   "outputs": [
    {
     "data": {
      "text/plain": [
       "array([[[  0, 145,   0],\n",
       "        [  0,   0,  73],\n",
       "        [  0, 121,   0],\n",
       "        ..., \n",
       "        [  0,   0,  79],\n",
       "        [  0, 149,   0],\n",
       "        [  0,   0,  72]],\n",
       "\n",
       "       [[106,   0,   0],\n",
       "        [  0, 145,   0],\n",
       "        [104,   0,   0],\n",
       "        ..., \n",
       "        [  0, 138,   0],\n",
       "        [115,   0,   0],\n",
       "        [  0, 149,   0]],\n",
       "\n",
       "       [[  0, 131,   0],\n",
       "        [  0,   0,  66],\n",
       "        [  0, 120,   0],\n",
       "        ..., \n",
       "        [  0,   0,  78],\n",
       "        [  0, 156,   0],\n",
       "        [  0,   0,  78]],\n",
       "\n",
       "       ..., \n",
       "       [[ 67,   0,   0],\n",
       "        [  0,  74,   0],\n",
       "        [ 65,   0,   0],\n",
       "        ..., \n",
       "        [  0, 140,   0],\n",
       "        [130,   0,   0],\n",
       "        [  0, 125,   0]],\n",
       "\n",
       "       [[  0,  69,   0],\n",
       "        [  0,   0,  37],\n",
       "        [  0,  70,   0],\n",
       "        ..., \n",
       "        [  0,   0,  60],\n",
       "        [  0, 136,   0],\n",
       "        [  0,   0,  57]],\n",
       "\n",
       "       [[ 62,   0,   0],\n",
       "        [  0,  82,   0],\n",
       "        [ 61,   0,   0],\n",
       "        ..., \n",
       "        [  0, 136,   0],\n",
       "        [120,   0,   0],\n",
       "        [  0, 142,   0]]], dtype=uint16)"
      ]
     },
     "execution_count": 10,
     "metadata": {},
     "output_type": "execute_result"
    }
   ],
   "source": [
    "rgb"
   ]
  },
  {
   "cell_type": "code",
   "execution_count": 11,
   "metadata": {},
   "outputs": [
    {
     "data": {
      "text/plain": [
       "<matplotlib.image.AxesImage at 0x2221761dba8>"
      ]
     },
     "execution_count": 11,
     "metadata": {},
     "output_type": "execute_result"
    }
   ],
   "source": [
    "plt.imshow(rgb)"
   ]
  },
  {
   "cell_type": "code",
   "execution_count": 12,
   "metadata": {},
   "outputs": [
    {
     "data": {
      "text/plain": [
       "<matplotlib.image.AxesImage at 0x2221415d208>"
      ]
     },
     "execution_count": 12,
     "metadata": {},
     "output_type": "execute_result"
    }
   ],
   "source": [
    "plt.imshow(rgb.astype(np.uint8))"
   ]
  },
  {
   "cell_type": "markdown",
   "metadata": {},
   "source": [
    "That looks odd..."
   ]
  },
  {
   "cell_type": "code",
   "execution_count": 13,
   "metadata": {},
   "outputs": [
    {
     "data": {
      "text/plain": [
       "array([258, 259, 257, ..., 258, 261, 258], dtype=uint16)"
      ]
     },
     "execution_count": 13,
     "metadata": {},
     "output_type": "execute_result"
    }
   ],
   "source": [
    "rgb[rgb > 255].astype(np.uint16)"
   ]
  },
  {
   "cell_type": "code",
   "execution_count": 14,
   "metadata": {},
   "outputs": [
    {
     "data": {
      "text/plain": [
       "array([2, 3, 1, ..., 2, 5, 2], dtype=uint8)"
      ]
     },
     "execution_count": 14,
     "metadata": {},
     "output_type": "execute_result"
    }
   ],
   "source": [
    "rgb[rgb > 255].astype(np.uint8)"
   ]
  },
  {
   "cell_type": "code",
   "execution_count": 15,
   "metadata": {},
   "outputs": [
    {
     "data": {
      "text/plain": [
       "255"
      ]
     },
     "execution_count": 15,
     "metadata": {},
     "output_type": "execute_result"
    }
   ],
   "source": [
    "np.max(rgb.astype(np.uint8))"
   ]
  },
  {
   "cell_type": "code",
   "execution_count": 16,
   "metadata": {},
   "outputs": [
    {
     "data": {
      "text/plain": [
       "415"
      ]
     },
     "execution_count": 16,
     "metadata": {},
     "output_type": "execute_result"
    }
   ],
   "source": [
    "np.max(rgb)"
   ]
  },
  {
   "cell_type": "markdown",
   "metadata": {},
   "source": [
    "ok, `astype` doesn't remap the values to the 0-255 range, it overflows..."
   ]
  },
  {
   "cell_type": "code",
   "execution_count": 17,
   "metadata": {},
   "outputs": [
    {
     "data": {
      "text/plain": [
       "64.061583577712611"
      ]
     },
     "execution_count": 17,
     "metadata": {},
     "output_type": "execute_result"
    }
   ],
   "source": [
    "np.max(rgb * 255/1023)  # remap from 10-bit to 8-bit range"
   ]
  },
  {
   "cell_type": "code",
   "execution_count": 18,
   "metadata": {},
   "outputs": [
    {
     "data": {
      "text/plain": [
       "<matplotlib.image.AxesImage at 0x2221762bfd0>"
      ]
     },
     "execution_count": 18,
     "metadata": {},
     "output_type": "execute_result"
    }
   ],
   "source": [
    "plt.imshow((rgb * 255/1023).astype(np.uint8))"
   ]
  },
  {
   "cell_type": "markdown",
   "metadata": {},
   "source": [
    "still the odd artifacts..."
   ]
  },
  {
   "cell_type": "code",
   "execution_count": 19,
   "metadata": {},
   "outputs": [
    {
     "data": {
      "text/plain": [
       "65535"
      ]
     },
     "execution_count": 19,
     "metadata": {},
     "output_type": "execute_result"
    }
   ],
   "source": [
    "np.max(rgb * 255)"
   ]
  },
  {
   "cell_type": "code",
   "execution_count": 20,
   "metadata": {},
   "outputs": [
    {
     "data": {
      "text/plain": [
       "65535"
      ]
     },
     "execution_count": 20,
     "metadata": {},
     "output_type": "execute_result"
    }
   ],
   "source": [
    "0b1111111111111111  # max value of uint16"
   ]
  },
  {
   "cell_type": "code",
   "execution_count": 21,
   "metadata": {},
   "outputs": [
    {
     "data": {
      "text/plain": [
       "103.44574780058652"
      ]
     },
     "execution_count": 21,
     "metadata": {},
     "output_type": "execute_result"
    }
   ],
   "source": [
    "np.max(rgb * (255/1023))"
   ]
  },
  {
   "cell_type": "code",
   "execution_count": 22,
   "metadata": {},
   "outputs": [
    {
     "data": {
      "text/plain": [
       "64.061583577712611"
      ]
     },
     "execution_count": 22,
     "metadata": {},
     "output_type": "execute_result"
    }
   ],
   "source": [
    "np.max(rgb * 255/1023)"
   ]
  },
  {
   "cell_type": "code",
   "execution_count": 23,
   "metadata": {},
   "outputs": [
    {
     "data": {
      "text/plain": [
       "64.06158357771261"
      ]
     },
     "execution_count": 23,
     "metadata": {},
     "output_type": "execute_result"
    }
   ],
   "source": [
    "65535/1023"
   ]
  },
  {
   "cell_type": "markdown",
   "metadata": {},
   "source": [
    "looks like the `*255` caused it to overflow _before_ converting to a float, while multiplying it by the fraction `(255/1023)` converts it to a float initially."
   ]
  },
  {
   "cell_type": "code",
   "execution_count": 24,
   "metadata": {},
   "outputs": [
    {
     "data": {
      "text/plain": [
       "103"
      ]
     },
     "execution_count": 24,
     "metadata": {},
     "output_type": "execute_result"
    }
   ],
   "source": [
    "uint16_to_uint8 = lambda a: (a * (255/1023)).astype(np.uint8)  # note, this only works b/c the values are actually 10-bit\n",
    "# uint16_to_uint8 = lambda a: (a >> 2).astype(np.uint8)  # or bit-shift as suggested at the end\n",
    "rgb8 = uint16_to_uint8(rgb)\n",
    "np.max(rgb8)"
   ]
  },
  {
   "cell_type": "code",
   "execution_count": 25,
   "metadata": {},
   "outputs": [],
   "source": [
    "assert rgb8.dtype == np.uint8"
   ]
  },
  {
   "cell_type": "code",
   "execution_count": 26,
   "metadata": {},
   "outputs": [
    {
     "data": {
      "text/plain": [
       "<matplotlib.image.AxesImage at 0x22217635710>"
      ]
     },
     "execution_count": 26,
     "metadata": {},
     "output_type": "execute_result"
    }
   ],
   "source": [
    "plt.imshow(rgb8)"
   ]
  },
  {
   "cell_type": "markdown",
   "metadata": {},
   "source": [
    "that looks much more expected"
   ]
  },
  {
   "cell_type": "code",
   "execution_count": 27,
   "metadata": {},
   "outputs": [],
   "source": [
    "im = Image.fromarray(rgb8)"
   ]
  },
  {
   "cell_type": "code",
   "execution_count": 28,
   "metadata": {},
   "outputs": [],
   "source": [
    "im.save('mosaic_rgb.png')  # save mosaiced image in color"
   ]
  },
  {
   "cell_type": "markdown",
   "metadata": {},
   "source": [
    "now for black and white, we can just collapse the 3-dimensional array by summing the RGB values (since only one of the three will have a value for any given entry)"
   ]
  },
  {
   "cell_type": "code",
   "execution_count": 29,
   "metadata": {},
   "outputs": [
    {
     "data": {
      "text/plain": [
       "(1944, 2592)"
      ]
     },
     "execution_count": 29,
     "metadata": {},
     "output_type": "execute_result"
    }
   ],
   "source": [
    "np.sum(rgb8,axis=2).shape  # make sure I'm collapsing the right axis"
   ]
  },
  {
   "cell_type": "code",
   "execution_count": 30,
   "metadata": {},
   "outputs": [],
   "source": [
    "assert np.max(np.sum(rgb8, axis=2)) < 255  # sum returns uint64, I'm making sure here that it won't overflow somehow"
   ]
  },
  {
   "cell_type": "code",
   "execution_count": 31,
   "metadata": {},
   "outputs": [],
   "source": [
    "imbw = Image.fromarray(np.sum(rgb8, axis=2).astype(np.uint8))"
   ]
  },
  {
   "cell_type": "code",
   "execution_count": 32,
   "metadata": {},
   "outputs": [],
   "source": [
    "imbw.save('mosaic_bw.png')"
   ]
  },
  {
   "cell_type": "code",
   "execution_count": 33,
   "metadata": {},
   "outputs": [],
   "source": [
    "# Below we present a fairly naive de-mosaic method that simply\n",
    "# calculates the weighted average of a pixel based on the pixels\n",
    "# surrounding it. The weighting is provided by a byte representation of\n",
    "# the Bayer filter which we construct first:\n",
    "\n",
    "bayer = np.zeros(rgb.shape, dtype=np.uint8)\n",
    "bayer[1::2, 0::2, 0] = 1 # Red\n",
    "bayer[0::2, 0::2, 1] = 1 # Green\n",
    "bayer[1::2, 1::2, 1] = 1 # Green\n",
    "bayer[0::2, 1::2, 2] = 1 # Blue\n",
    "\n",
    "# Allocate an array to hold our output with the same shape as the input\n",
    "# data. After this we define the size of window that will be used to\n",
    "# calculate each weighted average (3x3). Then we pad out the rgb and\n",
    "# bayer arrays, adding blank pixels at their edges to compensate for the\n",
    "# size of the window when calculating averages for edge pixels.\n",
    "\n",
    "output = np.empty(rgb.shape, dtype=rgb.dtype)\n",
    "window = (3, 3)\n",
    "borders = (window[0] - 1, window[1] - 1)\n",
    "border = (borders[0] // 2, borders[1] // 2)\n",
    "\n",
    "rgb_padded = np.pad(rgb, [\n",
    "    (border[0], border[0]),\n",
    "    (border[1], border[1]),\n",
    "    (0, 0),\n",
    "    ], 'constant')\n",
    "bayer = np.pad(bayer, [\n",
    "    (border[0], border[0]),\n",
    "    (border[1], border[1]),\n",
    "    (0, 0),\n",
    "    ], 'constant')\n",
    "\n",
    "# For each plane in the RGB data, we use a nifty numpy trick\n",
    "# (as_strided) to construct a view over the plane of 3x3 matrices. We do\n",
    "# the same for the bayer array, then use Einstein summation on each\n",
    "# (np.sum is simpler, but copies the data so it's slower), and divide\n",
    "# the results to get our weighted average:\n",
    "\n",
    "for plane in range(3):\n",
    "    p = rgb_padded[..., plane]\n",
    "    b = bayer[..., plane]\n",
    "    pview = as_strided(p, shape=(\n",
    "        p.shape[0] - borders[0],\n",
    "        p.shape[1] - borders[1]) + window, strides=p.strides * 2)\n",
    "    bview = as_strided(b, shape=(\n",
    "        b.shape[0] - borders[0],\n",
    "        b.shape[1] - borders[1]) + window, strides=b.strides * 2)\n",
    "    psum = np.einsum('ijkl->ij', pview)\n",
    "    bsum = np.einsum('ijkl->ij', bview)\n",
    "    output[..., plane] = psum // bsum\n",
    "\n",
    "# At this point output should contain a reasonably \"normal\" looking\n",
    "# image, although it still won't look as good as the camera's normal\n",
    "# output (as it lacks vignette compensation, AWB, etc).\n",
    "#\n",
    "# If you want to view this in most packages (like GIMP) you'll need to\n",
    "# convert it to 8-bit RGB data. The simplest way to do this is by\n",
    "# right-shifting everything by 2-bits (yes, this makes all that\n",
    "# unpacking work at the start rather redundant...)\n",
    "\n",
    "output = (output >> 2).astype(np.uint8)\n",
    "with open('image.data', 'wb') as f:\n",
    "    output.tofile(f)"
   ]
  },
  {
   "cell_type": "code",
   "execution_count": 34,
   "metadata": {},
   "outputs": [
    {
     "data": {
      "text/plain": [
       "<matplotlib.image.AxesImage at 0x22219aab9b0>"
      ]
     },
     "execution_count": 34,
     "metadata": {},
     "output_type": "execute_result"
    }
   ],
   "source": [
    "plt.imshow(output)"
   ]
  },
  {
   "cell_type": "code",
   "execution_count": 35,
   "metadata": {},
   "outputs": [],
   "source": [
    "Image.fromarray(output).save('demosaiced.png')"
   ]
  },
  {
   "cell_type": "code",
   "execution_count": 36,
   "metadata": {},
   "outputs": [],
   "source": [
    "# alternatively, convolution?\n",
    "from scipy.signal import convolve\n",
    "bayer = np.zeros(rgb.shape, dtype=np.uint8)\n",
    "bayer[1::2, 0::2, 0] = 1 # Red\n",
    "bayer[0::2, 0::2, 1] = 1 # Green\n",
    "bayer[1::2, 1::2, 1] = 1 # Green\n",
    "bayer[0::2, 1::2, 2] = 1 # Blue"
   ]
  },
  {
   "cell_type": "code",
   "execution_count": 37,
   "metadata": {},
   "outputs": [],
   "source": [
    "Image.fromarray(rgb8[:,:,0]).save('red.png')"
   ]
  },
  {
   "cell_type": "code",
   "execution_count": 38,
   "metadata": {},
   "outputs": [],
   "source": [
    "Image.fromarray(rgb8[:,:,1]).save('green.png')"
   ]
  },
  {
   "cell_type": "code",
   "execution_count": 39,
   "metadata": {},
   "outputs": [],
   "source": [
    "Image.fromarray(rgb8[:,:,2]).save('blue.png')"
   ]
  },
  {
   "cell_type": "code",
   "execution_count": 40,
   "metadata": {},
   "outputs": [],
   "source": [
    "r = convolve(bayer[:,:,0],rgb8[:,:,0]*0.5) "
   ]
  },
  {
   "cell_type": "code",
   "execution_count": 41,
   "metadata": {},
   "outputs": [
    {
     "data": {
      "text/plain": [
       "(3887, 5183)"
      ]
     },
     "execution_count": 41,
     "metadata": {},
     "output_type": "execute_result"
    }
   ],
   "source": [
    "r.shape"
   ]
  },
  {
   "cell_type": "code",
   "execution_count": 42,
   "metadata": {},
   "outputs": [
    {
     "data": {
      "text/plain": [
       "29592997.500000034"
      ]
     },
     "execution_count": 42,
     "metadata": {},
     "output_type": "execute_result"
    }
   ],
   "source": [
    "np.max(r)"
   ]
  },
  {
   "cell_type": "code",
   "execution_count": 43,
   "metadata": {},
   "outputs": [],
   "source": [
    "# res = np.zeros(rgb8.shape, dtype=np.uint8)\n",
    "# for i in range(3):\n",
    "#     res[::,::,i] = convolve()"
   ]
  },
  {
   "cell_type": "markdown",
   "metadata": {},
   "source": [
    "I'm having difficulty thinking of a way to make this work without restructuring the original rgb array or doing funky summation/boolean filtering.\n",
    "The closest I've gotten is convolving across each r/g/b plane and dividing by the sum of `[[1,1,1],[1,1,1],[1,1,1]]` of `bayer`."
   ]
  },
  {
   "cell_type": "code",
   "execution_count": 44,
   "metadata": {},
   "outputs": [
    {
     "data": {
      "text/plain": [
       "array([[1, 1, 1],\n",
       "       [1, 1, 1],\n",
       "       [1, 1, 1]], dtype=uint8)"
      ]
     },
     "execution_count": 44,
     "metadata": {},
     "output_type": "execute_result"
    }
   ],
   "source": [
    "kernel = np.ones((3,3),dtype=np.uint8)\n",
    "kernel"
   ]
  },
  {
   "cell_type": "code",
   "execution_count": 45,
   "metadata": {},
   "outputs": [
    {
     "data": {
      "text/plain": [
       "array([[1, 2, 1],\n",
       "       [1, 2, 1],\n",
       "       [2, 4, 2]], dtype=uint8)"
      ]
     },
     "execution_count": 45,
     "metadata": {},
     "output_type": "execute_result"
    }
   ],
   "source": [
    "bayer_conv = np.zeros(bayer.shape, dtype=np.uint8)\n",
    "for i in range(3):\n",
    "    bayer_conv[:,:,i] = convolve(bayer[:,:,i], kernel, mode='same')\n",
    "bayer_conv[:3,:3,0]  # peek at top left corner of r plane"
   ]
  },
  {
   "cell_type": "markdown",
   "metadata": {},
   "source": [
    "this is pretty much minesweeper where r, g, and b are mines"
   ]
  },
  {
   "cell_type": "code",
   "execution_count": 46,
   "metadata": {},
   "outputs": [
    {
     "data": {
      "text/plain": [
       "array([['', '', '', '', ''],\n",
       "       ['', 'g', 'b', 'g', 'b'],\n",
       "       ['', 'r', 'g', 'r', 'g'],\n",
       "       ['', 'g', 'b', 'g', 'b']],\n",
       "      dtype='<U1')"
      ]
     },
     "execution_count": 46,
     "metadata": {},
     "output_type": "execute_result"
    }
   ],
   "source": [
    "np.array([['','','','',''],['','g','b','g','b'],['','r','g','r','g'],['','g','b','g','b']], dtype=str)  # top left corner of bayer array"
   ]
  },
  {
   "cell_type": "code",
   "execution_count": 47,
   "metadata": {},
   "outputs": [],
   "source": [
    "rgb8_conv = np.zeros(rgb8.shape, dtype=np.uint16)  # max sum here should be 1275 for 5 maxed green sencels\n",
    "for i in range(3):\n",
    "    rgb8_conv[:,:,i] = convolve(rgb8[:,:,i].astype(np.uint16), kernel, mode='same')"
   ]
  },
  {
   "cell_type": "code",
   "execution_count": 48,
   "metadata": {},
   "outputs": [
    {
     "data": {
      "text/plain": [
       "504"
      ]
     },
     "execution_count": 48,
     "metadata": {},
     "output_type": "execute_result"
    }
   ],
   "source": [
    "np.max(rgb8_conv)"
   ]
  },
  {
   "cell_type": "code",
   "execution_count": 49,
   "metadata": {},
   "outputs": [],
   "source": [
    "res = rgb8_conv / bayer_conv"
   ]
  },
  {
   "cell_type": "code",
   "execution_count": 50,
   "metadata": {},
   "outputs": [
    {
     "data": {
      "text/plain": [
       "(1944, 2592, 3)"
      ]
     },
     "execution_count": 50,
     "metadata": {},
     "output_type": "execute_result"
    }
   ],
   "source": [
    "res.shape"
   ]
  },
  {
   "cell_type": "code",
   "execution_count": 51,
   "metadata": {},
   "outputs": [
    {
     "data": {
      "text/plain": [
       "101.75"
      ]
     },
     "execution_count": 51,
     "metadata": {},
     "output_type": "execute_result"
    }
   ],
   "source": [
    "np.max(res)"
   ]
  },
  {
   "cell_type": "code",
   "execution_count": 52,
   "metadata": {},
   "outputs": [],
   "source": [
    "res = res.astype(np.uint8)"
   ]
  },
  {
   "cell_type": "code",
   "execution_count": 53,
   "metadata": {},
   "outputs": [
    {
     "data": {
      "text/plain": [
       "<matplotlib.image.AxesImage at 0x22220d9c4a8>"
      ]
     },
     "execution_count": 53,
     "metadata": {},
     "output_type": "execute_result"
    }
   ],
   "source": [
    "plt.imshow(res)"
   ]
  },
  {
   "cell_type": "code",
   "execution_count": 54,
   "metadata": {},
   "outputs": [],
   "source": [
    "Image.fromarray(res).save('demosaiced_convolution.png')"
   ]
  }
 ],
 "metadata": {
  "kernelspec": {
   "display_name": "Python 3",
   "language": "python",
   "name": "python3"
  },
  "language_info": {
   "codemirror_mode": {
    "name": "ipython",
    "version": 3
   },
   "file_extension": ".py",
   "mimetype": "text/x-python",
   "name": "python",
   "nbconvert_exporter": "python",
   "pygments_lexer": "ipython3",
   "version": "3.6.7"
  }
 },
 "nbformat": 4,
 "nbformat_minor": 2
}
